{
 "cells": [
  {
   "cell_type": "markdown",
   "metadata": {},
   "source": [
    "# Bài thực hành số 2.1\n",
    "\n",
    "Chào mừng đến với bài thực hành số 2.1, trong bài thực hành này ta sẽ học cách xử lý data từ data thô để chuẩn bị cho quá trình train và đánh giá model."
   ]
  },
  {
   "cell_type": "markdown",
   "metadata": {},
   "source": [
    "## Hướng dẫn\n",
    "\n",
    "Dưới đây là hướng dẫn chi tiết các bước để bạn có thể hiểu được quá trình xử lý data\n"
   ]
  },
  {
   "cell_type": "markdown",
   "metadata": {},
   "source": [
    "### Cài đặt thư viện cần thiết"
   ]
  },
  {
   "cell_type": "code",
   "execution_count": null,
   "metadata": {},
   "outputs": [],
   "source": [
    "import os\n",
    "import cv2\n",
    "import numpy as np"
   ]
  },
  {
   "cell_type": "markdown",
   "metadata": {},
   "source": [
    "### Điều chỉnh kích thước ảnh"
   ]
  },
  {
   "cell_type": "code",
   "execution_count": null,
   "metadata": {},
   "outputs": [],
   "source": [
    "# đường dẫn tới ảnh cần đọc\n",
    "img = cv2.imread([...])\n",
    "original_height, original_width = img.shape[:2]\n",
    "print(f\"Original size: {original_width}x{original_height}\")"
   ]
  },
  {
   "cell_type": "code",
   "execution_count": null,
   "metadata": {},
   "outputs": [],
   "source": [
    "# Hiển thị hình ảnh ban đầu\n",
    "cv2.imshow(\"test\", img)\n",
    "cv2.waitKey(0)\n",
    "cv2.destroyAllWindows()"
   ]
  },
  {
   "cell_type": "markdown",
   "metadata": {},
   "source": [
    "#### Lời giải bài tập 1"
   ]
  },
  {
   "cell_type": "code",
   "execution_count": null,
   "metadata": {},
   "outputs": [],
   "source": [
    "def resize_image(image, target_width=320, target_height=240):\n",
    "    # Lấy kích thước ảnh\n",
    "    original_height, original_width = image.shape[:2]\n",
    "\n",
    "    # Tính toán tỷ lệ\n",
    "    target_ratio = target_width / target_height\n",
    "    original_ratio = original_width / original_height\n",
    "\n",
    "    if original_ratio > target_ratio:\n",
    "        # Ảnh rộng hơn, cắt chiều ngang\n",
    "        new_width = int(original_height * target_ratio)\n",
    "        new_height = original_height\n",
    "        x_offset = (original_width - new_width) // 2\n",
    "        image = image[:, x_offset:x_offset + new_width]\n",
    "    else:\n",
    "        # Ảnh cao hơn, cắt chiều dọc\n",
    "        new_height = int(original_width / target_ratio)\n",
    "        new_width = original_width\n",
    "        y_offset = (original_height - new_height) // 2\n",
    "        image = image[y_offset:y_offset + new_height, :]\n",
    "\n",
    "    # Resize ảnh để phù hợp với kích thước mục tiêu\n",
    "    resized_img = cv2.resize(image, (target_width, target_height), interpolation=cv2.INTER_AREA)\n",
    "\n",
    "    return resized_img\n"
   ]
  },
  {
   "cell_type": "code",
   "execution_count": null,
   "metadata": {},
   "outputs": [],
   "source": [
    "resized_image = resize_image(img, 320, 240)"
   ]
  },
  {
   "cell_type": "markdown",
   "metadata": {},
   "source": [
    "#### Kết quả"
   ]
  },
  {
   "cell_type": "code",
   "execution_count": null,
   "metadata": {},
   "outputs": [],
   "source": [
    "# Hiển thị hình ảnh sau khi đổi kích thước\n",
    "cv2.imshow(\"test\", resized_image)\n",
    "cv2.waitKey(0)\n",
    "cv2.destroyAllWindows()"
   ]
  },
  {
   "cell_type": "markdown",
   "metadata": {},
   "source": [
    "### Tăng cường dữ liệu"
   ]
  },
  {
   "cell_type": "markdown",
   "metadata": {},
   "source": [
    "#### Lời giải bài tập 2"
   ]
  },
  {
   "cell_type": "code",
   "execution_count": null,
   "metadata": {},
   "outputs": [],
   "source": [
    "# Điều chỉnh độ sáng\n",
    "def adjust_brightness(image, value):\n",
    "    hsv = cv2.cvtColor(image, cv2.COLOR_BGR2HSV)\n",
    "    h, s, v = cv2.split(hsv)\n",
    "    v = cv2.add(v, value)\n",
    "    v = np.clip(v, 0, 255)\n",
    "    final_hsv = cv2.merge((h, s, v))\n",
    "    img_bright = cv2.cvtColor(final_hsv, cv2.COLOR_HSV2BGR)\n",
    "    return img_bright"
   ]
  },
  {
   "cell_type": "code",
   "execution_count": null,
   "metadata": {},
   "outputs": [],
   "source": [
    "# Lật ảnh ngang\n",
    "def flip_horizontal(image):\n",
    "    return cv2.flip(image, 1)"
   ]
  },
  {
   "cell_type": "code",
   "execution_count": null,
   "metadata": {},
   "outputs": [],
   "source": [
    "# Làm mờ ảnh\n",
    "def blur_image(image, ksize=5):\n",
    "    return cv2.GaussianBlur(image, (ksize, ksize), 0)"
   ]
  },
  {
   "cell_type": "code",
   "execution_count": null,
   "metadata": {},
   "outputs": [],
   "source": [
    "# Thêm nhiễu\n",
    "def add_noise(image):\n",
    "    row, col, ch = image.shape\n",
    "    mean = 0\n",
    "    sigma = 25\n",
    "    gauss = np.random.normal(mean, sigma, (row, col, ch))\n",
    "    gauss = gauss.reshape(row, col, ch)\n",
    "    noisy = image + gauss\n",
    "    noisy = np.clip(noisy, 0, 255).astype(np.uint8)\n",
    "    return noisy"
   ]
  },
  {
   "cell_type": "code",
   "execution_count": null,
   "metadata": {},
   "outputs": [],
   "source": [
    "# Tăng sáng\n",
    "bright_img = adjust_brightness(resized_image, 50)\n",
    "\n",
    "# Giảm sáng\n",
    "dark_img = adjust_brightness(resized_image, -50)\n",
    "\n",
    "# Lật ảnh ngang\n",
    "flipped_img = flip_horizontal(resized_image)\n",
    "\n",
    "# Làm mờ\n",
    "blurred_img = blur_image(resized_image)\n",
    "\n",
    "# Thêm nhiễu\n",
    "noisy_img = add_noise(resized_image)"
   ]
  },
  {
   "cell_type": "markdown",
   "metadata": {},
   "source": [
    "#### Kết quả"
   ]
  },
  {
   "cell_type": "code",
   "execution_count": null,
   "metadata": {},
   "outputs": [],
   "source": [
    "# Hiển thị ảnh sau xử lý\n",
    "\n",
    "# Tên ảnh\n",
    "titles = [\"Resized image\", \"Bright image\", \"Dark img\", \"Flipped image\", \"Blurred image\", \"Noisy image\"]\n",
    "\n",
    "# Giả sử các ảnh đã được resize về cùng kích thước\n",
    "height, width = resized_image.shape[:2]\n",
    "\n",
    "# Hàm để thêm tên dưới mỗi ảnh\n",
    "def add_title(img, title):\n",
    "    img_with_title = np.zeros((height + 30, width, 3), dtype=np.uint8)\n",
    "    img_with_title[:height, :width] = img\n",
    "    cv2.putText(img_with_title, title, (10, height + 20), cv2.FONT_HERSHEY_SIMPLEX, 0.7, (255, 255, 255), 2)\n",
    "    return img_with_title\n",
    "\n",
    "# Thêm tên dưới mỗi ảnh\n",
    "img1 = add_title(resized_image, titles[0])\n",
    "img2 = add_title(bright_img, titles[1])\n",
    "img3 = add_title(dark_img, titles[2])\n",
    "img4 = add_title(flipped_img, titles[3])\n",
    "img5 = add_title(blurred_img, titles[4])\n",
    "img6 = add_title(noisy_img, titles[5])\n",
    "\n",
    "# Cập nhật chiều cao của các ảnh\n",
    "height += 30\n",
    "\n",
    "# Ghép ảnh lại với nhau thành một lưới 2x3\n",
    "top_row = np.hstack((img1, img2, img3))\n",
    "bottom_row = np.hstack((img4, img5, img6))\n",
    "grid = np.vstack((top_row, bottom_row))\n",
    "\n",
    "# Hiển thị ảnh\n",
    "cv2.imshow('Image Grid', grid)\n",
    "cv2.waitKey(0)\n",
    "cv2.destroyAllWindows()"
   ]
  },
  {
   "cell_type": "markdown",
   "metadata": {},
   "source": [
    "### Làm việc với thư mục"
   ]
  },
  {
   "cell_type": "markdown",
   "metadata": {},
   "source": [
    "#### Lời giải bài tập 3"
   ]
  },
  {
   "cell_type": "code",
   "execution_count": null,
   "metadata": {},
   "outputs": [],
   "source": [
    "def process_image(input_image_path, output_folder_path):\n",
    "    img = cv2.imread(input_image_path)\n",
    "    if img is None:\n",
    "        print(f\"Không thể đọc ảnh từ đường dẫn: {input_image_path}\")\n",
    "        return\n",
    "    \n",
    "    base_filename = os.path.basename(input_image_path)\n",
    "    filename, ext = os.path.splitext(base_filename)\n",
    "    \n",
    "    # Resize\n",
    "    resized_img = resize_image(img, 320, 240)\n",
    "    resized_path = os.path.join(output_folder_path, f\"{filename}_resized{ext}\")\n",
    "    cv2.imwrite(resized_path, resized_img)\n",
    "    \n",
    "    # Tăng sáng\n",
    "    bright_img = adjust_brightness(resized_img, 50)\n",
    "    bright_path = os.path.join(output_folder_path, f\"{filename}_bright{ext}\")\n",
    "    cv2.imwrite(bright_path, bright_img)\n",
    "\n",
    "    # Giảm sáng\n",
    "    dark_img = adjust_brightness(resized_img, -50)\n",
    "    dark_path = os.path.join(output_folder_path, f\"{filename}_dark{ext}\")\n",
    "    cv2.imwrite(dark_path, dark_img)\n",
    "\n",
    "    # Lật ảnh ngang\n",
    "    flipped_img = flip_horizontal(resized_img)\n",
    "    flipped_path = os.path.join(output_folder_path, f\"{filename}_flipped{ext}\")\n",
    "    cv2.imwrite(flipped_path, flipped_img)\n",
    "\n",
    "    # Làm mờ\n",
    "    blurred_img = blur_image(resized_img)\n",
    "    blurred_path = os.path.join(output_folder_path, f\"{filename}_blurred{ext}\")\n",
    "    cv2.imwrite(blurred_path, blurred_img)\n",
    "\n",
    "    # Thêm nhiễu\n",
    "    noisy_img = add_noise(resized_img)\n",
    "    noisy_path = os.path.join(output_folder_path, f\"{filename}_noisy{ext}\")\n",
    "    cv2.imwrite(noisy_path, noisy_img)"
   ]
  },
  {
   "cell_type": "code",
   "execution_count": null,
   "metadata": {},
   "outputs": [],
   "source": [
    "def process_images_in_folder(input_folder_path, output_folder_path):\n",
    "    if not os.path.exists(output_folder_path):\n",
    "        os.makedirs(output_folder_path)\n",
    "\n",
    "    for filename in os.listdir(input_folder_path):\n",
    "        input_image_path = os.path.join(input_folder_path, filename)\n",
    "        process_image(input_image_path, output_folder_path)"
   ]
  },
  {
   "cell_type": "code",
   "execution_count": null,
   "metadata": {},
   "outputs": [],
   "source": [
    "# Đường dẫn đến thư mục chứa các file ảnh đầu vào và đầu ra\n",
    "input_folder_path = [...]\n",
    "output_folder_path = [...]\n",
    "\n",
    "# Chạy hàm xử lý\n",
    "process_images_in_folder(input_folder_path, output_folder_path)"
   ]
  },
  {
   "cell_type": "markdown",
   "metadata": {},
   "source": [
    "### Gán nhãn data"
   ]
  },
  {
   "cell_type": "markdown",
   "metadata": {},
   "source": [
    "#### Lời giải bài tập 4"
   ]
  },
  {
   "cell_type": "code",
   "execution_count": null,
   "metadata": {},
   "outputs": [],
   "source": [
    "def label_data(input_folder_path, output_folder_path):\n",
    "    count = 1\n",
    "    for filename in os.listdir(input_folder_path):\n",
    "        if filename.endswith(\".jpg\") or filename.endswith(\".png\"):\n",
    "            input_image_path = os.path.join(input_folder_path, filename)\n",
    "            img = cv2.imread(input_image_path)\n",
    "            if img is None:\n",
    "                print(f\"Không thể đọc ảnh từ đường dẫn: {input_image_path}\")\n",
    "                return\n",
    "            new_path = os.path.join(output_folder_path,  \"red\" + str(count) + \".jpg\")\n",
    "            cv2.imwrite(new_path, img)\n",
    "        count = count + 1"
   ]
  },
  {
   "cell_type": "code",
   "execution_count": null,
   "metadata": {},
   "outputs": [],
   "source": [
    "input_path = [...]\n",
    "output_path = [...]\n",
    "\n",
    "label_data(input_path, output_path)"
   ]
  },
  {
   "cell_type": "markdown",
   "metadata": {},
   "source": [
    "### Xây dựng bộ data\n",
    "\n",
    "Kết quả cuối cùng của việc label data sẽ gồm ảnh và một file txt đi kèm chứa thông tin về class, vị trí của vật thể trong ảnh. Sau đó, chúng ta sẽ cần chia data làm 3 thư mục là train, valid và test (thường sẽ theo tỉ lệ 7:2:1).\n",
    "\n",
    "Để thuận tiện trong việc label và phân chia dữ liệu, hãy truy cập trang web https://roboflow.com/ để có thể tạo dựng bộ data của riêng mình."
   ]
  }
 ],
 "metadata": {
  "kernelspec": {
   "display_name": "Python 3",
   "language": "python",
   "name": "python3"
  },
  "language_info": {
   "codemirror_mode": {
    "name": "ipython",
    "version": 3
   },
   "file_extension": ".py",
   "mimetype": "text/x-python",
   "name": "python",
   "nbconvert_exporter": "python",
   "pygments_lexer": "ipython3",
   "version": "3.10.11"
  }
 },
 "nbformat": 4,
 "nbformat_minor": 2
}
